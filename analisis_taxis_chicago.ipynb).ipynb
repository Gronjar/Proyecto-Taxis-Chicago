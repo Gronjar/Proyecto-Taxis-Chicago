{
 "cells": [
  {
   "cell_type": "code",
   "execution_count": 292,
   "metadata": {
    "trusted": true
   },
   "outputs": [],
   "source": [
    "import pandas as pd\n",
    "import matplotlib.pyplot as plt\n",
    "import seaborn as sns\n",
    "from scipy import stats\n",
    "from scipy.stats import levene\n",
    "\n",
    "\n",
    "#Se Cargan los datasets O Importan\n",
    "df_trips = pd.read_csv('/datasets/project_sql_result_01.csv')\n",
    "df_drops = pd.read_csv('/datasets/project_sql_result_04.csv')\n",
    "df_weather = pd.read_csv('/datasets/project_sql_result_07.csv')\n",
    "\n",
    "\n"
   ]
  },
  {
   "cell_type": "code",
   "execution_count": 293,
   "metadata": {
    "trusted": true
   },
   "outputs": [
    {
     "name": "stdout",
     "output_type": "stream",
     "text": [
      "                      company_name  trips_amount\n",
      "0                        Flash Cab         19558\n",
      "1        Taxi Affiliation Services         11422\n",
      "2                Medallion Leasing         10367\n",
      "3                       Yellow Cab          9888\n",
      "4  Taxi Affiliation Service Yellow          9299\n",
      "  dropoff_location_name  average_trips\n",
      "0                  Loop   10727.466667\n",
      "1           River North    9523.666667\n",
      "2         Streeterville    6664.666667\n",
      "3             West Loop    5163.666667\n",
      "4                O'Hare    2546.900000\n",
      "              start_ts weather_conditions  duration_seconds\n",
      "0  2017-11-25 16:00:00               Good            2410.0\n",
      "1  2017-11-25 14:00:00               Good            1920.0\n",
      "2  2017-11-25 12:00:00               Good            1543.0\n",
      "3  2017-11-04 10:00:00               Good            2512.0\n",
      "4  2017-11-11 07:00:00               Good            1440.0\n"
     ]
    }
   ],
   "source": [
    "#Se imprimen las primeras filas \n",
    "\n",
    "print(df_trips.head())\n",
    "\n",
    "print(df_drops.head())\n",
    "\n",
    "print(df_weather.head())\n",
    "\n"
   ]
  },
  {
   "cell_type": "code",
   "execution_count": 294,
   "metadata": {
    "trusted": true
   },
   "outputs": [
    {
     "name": "stdout",
     "output_type": "stream",
     "text": [
      "company_name    object\n",
      "trips_amount     int64\n",
      "dtype: object\n",
      "dropoff_location_name     object\n",
      "average_trips            float64\n",
      "dtype: object\n",
      "start_ts               object\n",
      "weather_conditions     object\n",
      "duration_seconds      float64\n",
      "dtype: object\n",
      "Valores nulos en df_trips:\n",
      "company_name    0\n",
      "trips_amount    0\n",
      "dtype: int64\n",
      "\n",
      "Valores nulos en df_drops:\n",
      "dropoff_location_name    0\n",
      "average_trips            0\n",
      "dtype: int64\n",
      "\n",
      "Valores nulos en df_weather:\n",
      "start_ts              0\n",
      "weather_conditions    0\n",
      "duration_seconds      0\n",
      "dtype: int64\n"
     ]
    }
   ],
   "source": [
    "# Verificar tipos de datos \n",
    "print(df_trips.dtypes)\n",
    "print(df_drops.dtypes)\n",
    "print(df_weather.dtypes)\n",
    "\n",
    "# Verificar si hay valores nulos en df_trips\n",
    "null_values_trips = df_trips.isnull().sum()\n",
    "print(\"Valores nulos en df_trips:\")\n",
    "print(null_values_trips)\n",
    "\n",
    "# Verificar si hay valores nulos en df_drops\n",
    "null_values_drops = df_drops.isnull().sum()\n",
    "print(\"\\nValores nulos en df_drops:\")\n",
    "print(null_values_drops)\n",
    "\n",
    "# Verificar si hay valores nulos en df_weather\n",
    "null_values_weather = df_weather.isnull().sum()\n",
    "print(\"\\nValores nulos en df_weather:\")\n",
    "print(null_values_weather)\n",
    "\n",
    "\n"
   ]
  },
  {
   "cell_type": "code",
   "execution_count": 295,
   "metadata": {
    "trusted": true
   },
   "outputs": [
    {
     "name": "stdout",
     "output_type": "stream",
     "text": [
      "Duplicados en df_trips: 0\n",
      "Duplicados en df_drops: 0\n",
      "Duplicados en df_weather: 197\n"
     ]
    }
   ],
   "source": [
    "# Se Verifica duplicados en df_trips\n",
    "duplicates_trips = df_trips.duplicated().sum()\n",
    "print(f\"Duplicados en df_trips: {duplicates_trips}\")\n",
    "\n",
    "#Se Verifica duplicados en df_drops\n",
    "duplicates_drops = df_drops.duplicated().sum()\n",
    "print(f\"Duplicados en df_drops: {duplicates_drops}\")\n",
    "\n",
    "#Se Verifica duplicados en df_weather\n",
    "duplicates_weather = df_weather.duplicated().sum()\n",
    "print(f\"Duplicados en df_weather: {duplicates_weather}\")\n"
   ]
  },
  {
   "cell_type": "markdown",
   "metadata": {},
   "source": [
    "Se encuentran valores duplicados!!! se deben de eliminar"
   ]
  },
  {
   "cell_type": "code",
   "execution_count": 296,
   "metadata": {
    "trusted": true
   },
   "outputs": [],
   "source": [
    "# Se Verifica que no se encuentren duplcados\n",
    "df_trips = df_trips.drop_duplicates()\n",
    "df_drops = df_drops.drop_duplicates()\n",
    "df_weather = df_weather.drop_duplicates()\n"
   ]
  },
  {
   "cell_type": "markdown",
   "metadata": {},
   "source": [
    "#Se eliminaron los duplicados"
   ]
  },
  {
   "cell_type": "markdown",
   "metadata": {},
   "source": [
    "<div class=\"alert alert-block alert-danger\">\n",
    "\n",
    "<b>Comentario del revisor</b> <a class=\"tocSkip\"></a>\n",
    "\n",
    "Para estos análisis iniciales te recomiendo verificar si contamos con registros duplicados</div>\n",
    "\n"
   ]
  },
  {
   "cell_type": "code",
   "execution_count": 297,
   "metadata": {
    "scrolled": true,
    "trusted": true
   },
   "outputs": [
    {
     "name": "stdout",
     "output_type": "stream",
     "text": [
      "  dropoff_location_name  average_trips\n",
      "0                  Loop   10727.466667\n",
      "1           River North    9523.666667\n",
      "2         Streeterville    6664.666667\n",
      "3             West Loop    5163.666667\n",
      "4                O'Hare    2546.900000\n",
      "5             Lake View    2420.966667\n",
      "6            Grant Park    2068.533333\n",
      "7         Museum Campus    1510.000000\n",
      "8            Gold Coast    1364.233333\n",
      "9    Sheffield & DePaul    1259.766667\n"
     ]
    }
   ],
   "source": [
    "# Ordenar y seleccionar los 10 barrios con más viajes\n",
    "top_10_drops = df_drops.sort_values(by='average_trips', ascending=False).head(10)\n",
    "print(top_10_drops[['dropoff_location_name', 'average_trips']])\n"
   ]
  },
  {
   "cell_type": "code",
   "execution_count": 298,
   "metadata": {
    "trusted": true
   },
   "outputs": [
    {
     "data": {
      "image/png": "[encoded data removed]",
      "text/plain": [
       "<Figure size 1200x600 with 1 Axes>"
      ]
     },
     "metadata": {},
     "output_type": "display_data"
    }
   ],
   "source": [
    "# Se Ordena el dataframe por el número de viajes (trips_amount) de forma descendente y se selecciona el top 10\n",
    "top_10_trips = df_trips.sort_values(by='trips_amount', ascending=False).head(10)\n",
    "\n",
    "# Crear la gráfica de barras para el top 10 de empresas de taxis\n",
    "plt.figure(figsize=(12, 6))\n",
    "sns.barplot(x='company_name', y='trips_amount', data=top_10_trips)\n",
    "plt.xticks(rotation=90)\n",
    "plt.title('Top 10 Compañías de Taxis por Número de Viajes')\n",
    "plt.xlabel('Compañía de Taxis')\n",
    "plt.ylabel('Número de Viajes')\n",
    "plt.show()\n"
   ]
  },
  {
   "cell_type": "markdown",
   "metadata": {},
   "source": [
    "#SE PUEDE VER UNA VARIABLES SIGNIFCATIVOS EN EL NUMERO DE VIAJES REALLZADOS POR COMPANIA ."
   ]
  },
  {
   "cell_type": "code",
   "execution_count": 299,
   "metadata": {
    "trusted": true
   },
   "outputs": [
    {
     "data": {
      "image/png": "[encoded data removed]",
      "text/plain": [
       "<Figure size 1200x600 with 1 Axes>"
      ]
     },
     "metadata": {},
     "output_type": "display_data"
    }
   ],
   "source": [
    "\n",
    "2 # Gráfico: los 10 barrios principales por número de finalizaciones\n",
    "plt.figure(figsize=(12, 6))\n",
    "sns.barplot(x='average_trips', y='dropoff_location_name', data=top_10_drops)\n",
    "plt.title('Top 10 barrios por número de finalizaciones de viajes')\n",
    "plt.xlabel('Número promedio de viajes')\n",
    "plt.ylabel('Barrio')\n",
    "plt.show()\n"
   ]
  },
  {
   "cell_type": "markdown",
   "metadata": {},
   "source": [
    "SE MUESTRA LOS 10 LUGARES DONDE LOS PASAJEROS SUELEN FINALIZAR MAS SUS VIAJES "
   ]
  },
  {
   "cell_type": "code",
   "execution_count": 307,
   "metadata": {
    "trusted": true
   },
   "outputs": [
    {
     "name": "stdout",
     "output_type": "stream",
     "text": [
      "              start_ts weather_conditions  duration_seconds  day_of_week  \\\n",
      "6  2017-11-04 16:00:00                Bad            2969.0            5   \n",
      "30 2017-11-18 12:00:00                Bad            1980.0            5   \n",
      "34 2017-11-04 17:00:00                Bad            2460.0            5   \n",
      "51 2017-11-04 16:00:00                Bad            2760.0            5   \n",
      "52 2017-11-18 12:00:00                Bad            2460.0            5   \n",
      "\n",
      "    is_rainy  is_saturday  \n",
      "6       True         True  \n",
      "30      True         True  \n",
      "34      True         True  \n",
      "51      True         True  \n",
      "52      True         True  \n",
      "             start_ts weather_conditions  duration_seconds  day_of_week  \\\n",
      "0 2017-11-25 16:00:00               Good            2410.0            5   \n",
      "1 2017-11-25 14:00:00               Good            1920.0            5   \n",
      "2 2017-11-25 12:00:00               Good            1543.0            5   \n",
      "3 2017-11-04 10:00:00               Good            2512.0            5   \n",
      "4 2017-11-11 07:00:00               Good            1440.0            5   \n",
      "\n",
      "   is_rainy  is_saturday  \n",
      "0     False         True  \n",
      "1     False         True  \n",
      "2     False         True  \n",
      "3     False         True  \n",
      "4     False         True  \n"
     ]
    }
   ],
   "source": [
    "# Convertir la columna 'start_ts' a formato datetime \n",
    "df_weather['start_ts'] = pd.to_datetime(df_weather['start_ts'])\n",
    "\n",
    "# Se Crea una columna con el dia de la semana\n",
    "df_weather['day_of_week'] = df_weather['start_ts'].dt.dayofweek  # 0 = lunes, 5 = sábado\n",
    "\n",
    "#Sev Crea una columna que clasifique como lluvioso o no lluvioso\n",
    "df_weather['is_rainy'] = df_weather['weather_conditions'] == 'Bad'  # Consideramos 'Bad' como lluvioso\n",
    "\n",
    "# Se Crea una columna para identificar los sábados\n",
    "df_weather['is_saturday'] = df_weather['day_of_week'] == 5  # 5 = sábado\n",
    "\n",
    "#Se Filtran los sabados lluviosos y no lluviosos\n",
    "saturday_rainy = df_weather[(df_weather['is_saturday']) & (df_weather['is_rainy'])]\n",
    "saturday_clear = df_weather[(df_weather['is_saturday']) & (~df_weather['is_rainy'])]\n",
    "\n",
    "# Se Verifican los datos\n",
    "print(saturday_rainy.head())\n",
    "print(saturday_clear.head())\n"
   ]
  },
  {
   "cell_type": "markdown",
   "metadata": {},
   "source": []
  },
  {
   "cell_type": "code",
   "execution_count": 305,
   "metadata": {
    "trusted": true
   },
   "outputs": [
    {
     "name": "stdout",
     "output_type": "stream",
     "text": [
      "T-statistic: 5.427957689754561, P-value: 7.397770692813658e-08\n"
     ]
    }
   ],
   "source": [
    "\n",
    "# Realizar la prueba t para comparar las duraciones promedio\n",
    "t_stat, p_value = stats.ttest_ind(saturday_rainy['duration_seconds'], saturday_clear['duration_seconds'], nan_policy='omit')\n",
    "\n",
    "# Mostrar los resultados\n",
    "print(f\"T-statistic: {t_stat}, P-value: {p_value}\")\n"
   ]
  },
  {
   "cell_type": "markdown",
   "metadata": {},
   "source": [
    "Un T-statistic de 5.428 y un P-value de 7.40e-08 indican que hay una diferencia significativa entre los grupos. Puedes rechazar la hipótesis nula y concluir que la diferencia no es por azar."
   ]
  },
  {
   "cell_type": "code",
   "execution_count": 308,
   "metadata": {
    "trusted": true
   },
   "outputs": [
    {
     "name": "stdout",
     "output_type": "stream",
     "text": [
      "Estadística de Levene: 0.000586951625283602\n",
      "Valor p: 0.9806770360671218\n"
     ]
    }
   ],
   "source": [
    "\n",
    "#Se crean las variables\n",
    "rainy_saturdays_duration = saturday_rainy['duration_seconds']\n",
    "clear_saturdays_duration = saturday_clear['duration_seconds']\n",
    "\n",
    "# Realizar la prueba de Levene\n",
    "stat, p_value = levene(rainy_saturdays_duration, clear_saturdays_duration)\n",
    "\n",
    "# Imprimir los resultados\n",
    "print(f\"Estadística de Levene: {stat}\")\n",
    "print(f\"Valor p: {p_value}\")\n"
   ]
  },
  {
   "cell_type": "code",
   "execution_count": 309,
   "metadata": {
    "trusted": true
   },
   "outputs": [
    {
     "name": "stdout",
     "output_type": "stream",
     "text": [
      "Duración promedio en sábados lluviosos: nan segundos\n",
      "Duración promedio en otros días: 2096.308840413318 segundos\n"
     ]
    }
   ],
   "source": [
    "# Duración por promedio de los viajes\n",
    "mean_duration_rainy = saturdays_rainy['duration_seconds'].mean()\n",
    "mean_duration_other = other_days['duration_seconds'].mean()\n",
    "\n",
    "print(f\"Duración promedio en sábados lluviosos: {mean_duration_rainy} segundos\")\n",
    "print(f\"Duración promedio en otros días: {mean_duration_other} segundos\")\n"
   ]
  }
 ],
 "metadata": {
  "ExecuteTimeLog": [
   {
    "duration": 311,
    "start_time": "2024-12-04T19:00:41.104Z"
   },
   {
    "duration": 22,
    "start_time": "2024-12-04T19:01:56.811Z"
   },
   {
    "duration": 3,
    "start_time": "2024-12-04T19:17:22.321Z"
   },
   {
    "duration": 6,
    "start_time": "2024-12-04T19:19:40.064Z"
   },
   {
    "duration": 1314,
    "start_time": "2024-12-04T19:19:52.413Z"
   },
   {
    "duration": 293,
    "start_time": "2024-12-19T21:40:45.548Z"
   },
   {
    "duration": 13,
    "start_time": "2024-12-19T21:40:46.100Z"
   },
   {
    "duration": 3,
    "start_time": "2024-12-19T21:40:46.704Z"
   },
   {
    "duration": 5,
    "start_time": "2024-12-19T21:40:47.236Z"
   },
   {
    "duration": 3416,
    "start_time": "2024-12-19T21:40:47.832Z"
   },
   {
    "duration": 338,
    "start_time": "2024-12-26T19:05:34.107Z"
   },
   {
    "duration": 13,
    "start_time": "2024-12-26T19:05:35.878Z"
   },
   {
    "duration": 3,
    "start_time": "2024-12-26T19:05:36.396Z"
   },
   {
    "duration": 6,
    "start_time": "2024-12-26T19:05:36.646Z"
   },
   {
    "duration": 4,
    "start_time": "2024-12-26T19:11:45.031Z"
   },
   {
    "duration": 13,
    "start_time": "2024-12-26T19:11:46.330Z"
   },
   {
    "duration": 14,
    "start_time": "2024-12-26T19:11:50.812Z"
   },
   {
    "duration": 13,
    "start_time": "2024-12-26T19:13:49.791Z"
   },
   {
    "duration": 14,
    "start_time": "2024-12-26T19:14:11.143Z"
   },
   {
    "duration": 10,
    "start_time": "2024-12-26T21:11:06.468Z"
   },
   {
    "duration": 9,
    "start_time": "2024-12-26T21:11:11.920Z"
   },
   {
    "duration": 6,
    "start_time": "2024-12-26T21:11:15.137Z"
   },
   {
    "duration": 13,
    "start_time": "2024-12-26T21:13:36.209Z"
   },
   {
    "duration": 231,
    "start_time": "2024-12-26T21:20:28.485Z"
   },
   {
    "duration": 15,
    "start_time": "2024-12-26T21:20:40.140Z"
   },
   {
    "duration": 14,
    "start_time": "2024-12-26T21:21:14.099Z"
   },
   {
    "duration": 10,
    "start_time": "2024-12-26T21:21:21.516Z"
   },
   {
    "duration": 6,
    "start_time": "2024-12-26T21:21:21.994Z"
   },
   {
    "duration": 13,
    "start_time": "2024-12-26T21:21:23.696Z"
   },
   {
    "duration": 14,
    "start_time": "2024-12-26T21:21:25.181Z"
   },
   {
    "duration": 4,
    "start_time": "2024-12-26T21:21:34.187Z"
   },
   {
    "duration": 4,
    "start_time": "2024-12-26T21:24:21.377Z"
   },
   {
    "duration": 6,
    "start_time": "2024-12-26T21:24:26.940Z"
   },
   {
    "duration": 1262,
    "start_time": "2024-12-26T21:27:05.752Z"
   },
   {
    "duration": 6,
    "start_time": "2024-12-26T21:27:10.555Z"
   },
   {
    "duration": 1075,
    "start_time": "2024-12-26T21:27:31.090Z"
   },
   {
    "duration": 1042,
    "start_time": "2024-12-26T21:27:34.716Z"
   },
   {
    "duration": 155,
    "start_time": "2024-12-26T21:27:39.591Z"
   },
   {
    "duration": 155,
    "start_time": "2024-12-26T21:30:48.882Z"
   },
   {
    "duration": 1145,
    "start_time": "2024-12-26T21:31:07.953Z"
   },
   {
    "duration": 1051,
    "start_time": "2024-12-26T21:31:14.283Z"
   },
   {
    "duration": 18,
    "start_time": "2024-12-26T21:38:45.002Z"
   },
   {
    "duration": 4,
    "start_time": "2024-12-26T21:38:58.986Z"
   },
   {
    "duration": 8,
    "start_time": "2024-12-26T21:39:25.865Z"
   },
   {
    "duration": 4,
    "start_time": "2024-12-26T21:39:34.938Z"
   },
   {
    "duration": 7,
    "start_time": "2024-12-26T21:39:38.793Z"
   },
   {
    "duration": 5,
    "start_time": "2024-12-26T21:39:39.260Z"
   },
   {
    "duration": 3,
    "start_time": "2024-12-26T21:39:39.918Z"
   },
   {
    "duration": 4,
    "start_time": "2024-12-26T21:39:41.841Z"
   },
   {
    "duration": 2624,
    "start_time": "2024-12-30T18:32:21.439Z"
   },
   {
    "duration": 11,
    "start_time": "2024-12-30T18:32:25.930Z"
   },
   {
    "duration": 14,
    "start_time": "2024-12-30T18:34:30.924Z"
   },
   {
    "duration": 7,
    "start_time": "2024-12-30T18:34:34.086Z"
   },
   {
    "duration": 14,
    "start_time": "2024-12-30T18:34:34.502Z"
   },
   {
    "duration": 4,
    "start_time": "2024-12-30T18:34:34.666Z"
   },
   {
    "duration": 4,
    "start_time": "2024-12-30T18:34:34.825Z"
   },
   {
    "duration": 6,
    "start_time": "2024-12-30T18:34:35.140Z"
   },
   {
    "duration": 1048,
    "start_time": "2024-12-30T18:34:35.320Z"
   },
   {
    "duration": 176,
    "start_time": "2024-12-30T18:34:36.370Z"
   },
   {
    "duration": 10,
    "start_time": "2024-12-30T18:34:36.633Z"
   },
   {
    "duration": 4,
    "start_time": "2024-12-30T18:34:36.798Z"
   },
   {
    "duration": 3,
    "start_time": "2024-12-30T18:34:37.153Z"
   },
   {
    "duration": 13,
    "start_time": "2024-12-30T19:12:36.266Z"
   },
   {
    "duration": 7,
    "start_time": "2024-12-30T19:12:39.215Z"
   },
   {
    "duration": 16,
    "start_time": "2024-12-30T19:15:09.497Z"
   },
   {
    "duration": 6,
    "start_time": "2024-12-30T19:15:23.181Z"
   },
   {
    "duration": 14,
    "start_time": "2024-12-30T19:15:27.909Z"
   },
   {
    "duration": 11,
    "start_time": "2024-12-30T19:15:52.393Z"
   },
   {
    "duration": 11,
    "start_time": "2024-12-30T19:17:16.261Z"
   },
   {
    "duration": 11,
    "start_time": "2024-12-30T19:17:27.918Z"
   },
   {
    "duration": 12,
    "start_time": "2024-12-30T19:18:05.711Z"
   },
   {
    "duration": 9,
    "start_time": "2024-12-30T19:19:52.755Z"
   },
   {
    "duration": 9,
    "start_time": "2024-12-30T19:20:07.312Z"
   },
   {
    "duration": 10,
    "start_time": "2024-12-30T19:21:35.961Z"
   },
   {
    "duration": 216,
    "start_time": "2024-12-30T19:22:28.884Z"
   },
   {
    "duration": 9,
    "start_time": "2024-12-30T19:22:40.361Z"
   },
   {
    "duration": 11,
    "start_time": "2024-12-30T19:23:13.851Z"
   },
   {
    "duration": 3,
    "start_time": "2024-12-30T19:23:16.430Z"
   },
   {
    "duration": 14,
    "start_time": "2024-12-30T19:24:13.851Z"
   },
   {
    "duration": 15,
    "start_time": "2024-12-30T19:24:36.979Z"
   },
   {
    "duration": 5,
    "start_time": "2024-12-30T19:24:45.782Z"
   },
   {
    "duration": 6,
    "start_time": "2024-12-30T19:43:50.712Z"
   },
   {
    "duration": 1147,
    "start_time": "2024-12-30T19:43:51.640Z"
   },
   {
    "duration": 4,
    "start_time": "2024-12-30T19:44:05.781Z"
   },
   {
    "duration": 1097,
    "start_time": "2024-12-30T19:44:24.108Z"
   },
   {
    "duration": 13,
    "start_time": "2024-12-30T19:48:35.048Z"
   },
   {
    "duration": 6,
    "start_time": "2024-12-30T19:48:35.957Z"
   },
   {
    "duration": 15,
    "start_time": "2024-12-30T19:48:36.654Z"
   },
   {
    "duration": 10,
    "start_time": "2024-12-30T19:48:37.464Z"
   },
   {
    "duration": 9,
    "start_time": "2024-12-30T19:48:41.937Z"
   },
   {
    "duration": 5,
    "start_time": "2024-12-30T19:48:43.596Z"
   },
   {
    "duration": 5,
    "start_time": "2024-12-30T19:48:45.934Z"
   },
   {
    "duration": 1052,
    "start_time": "2024-12-30T19:49:13.294Z"
   },
   {
    "duration": 156,
    "start_time": "2024-12-30T19:49:20.305Z"
   },
   {
    "duration": 182,
    "start_time": "2024-12-30T19:51:17.728Z"
   },
   {
    "duration": 193,
    "start_time": "2024-12-30T19:57:17.125Z"
   },
   {
    "duration": 151,
    "start_time": "2024-12-30T19:57:21.726Z"
   },
   {
    "duration": 4,
    "start_time": "2024-12-30T19:57:26.487Z"
   },
   {
    "duration": 5,
    "start_time": "2024-12-30T19:57:27.576Z"
   },
   {
    "duration": 4,
    "start_time": "2024-12-30T19:57:28.285Z"
   },
   {
    "duration": 8,
    "start_time": "2024-12-30T20:12:08.316Z"
   },
   {
    "duration": 9,
    "start_time": "2024-12-30T20:12:35.890Z"
   },
   {
    "duration": 94,
    "start_time": "2024-12-30T20:14:10.725Z"
   },
   {
    "duration": 3,
    "start_time": "2024-12-30T20:14:51.652Z"
   },
   {
    "duration": 3,
    "start_time": "2024-12-30T20:15:14.051Z"
   },
   {
    "duration": 4,
    "start_time": "2024-12-30T20:16:30.822Z"
   },
   {
    "duration": 13,
    "start_time": "2024-12-30T20:17:33.828Z"
   },
   {
    "duration": 14,
    "start_time": "2024-12-30T20:18:03.527Z"
   },
   {
    "duration": 4,
    "start_time": "2024-12-30T20:18:08.350Z"
   },
   {
    "duration": 4,
    "start_time": "2024-12-30T20:19:53.533Z"
   },
   {
    "duration": 13,
    "start_time": "2024-12-30T20:19:56.258Z"
   },
   {
    "duration": 14,
    "start_time": "2024-12-30T20:20:09.559Z"
   },
   {
    "duration": 4,
    "start_time": "2024-12-30T20:20:22.326Z"
   },
   {
    "duration": 12,
    "start_time": "2024-12-30T20:20:57.364Z"
   },
   {
    "duration": 7,
    "start_time": "2024-12-30T20:20:57.679Z"
   },
   {
    "duration": 14,
    "start_time": "2024-12-30T20:20:57.836Z"
   },
   {
    "duration": 10,
    "start_time": "2024-12-30T20:20:57.965Z"
   },
   {
    "duration": 10,
    "start_time": "2024-12-30T20:20:58.299Z"
   },
   {
    "duration": 5,
    "start_time": "2024-12-30T20:20:58.416Z"
   },
   {
    "duration": 5,
    "start_time": "2024-12-30T20:20:58.759Z"
   },
   {
    "duration": 204,
    "start_time": "2024-12-30T20:20:58.913Z"
   },
   {
    "duration": 151,
    "start_time": "2024-12-30T20:20:59.379Z"
   },
   {
    "duration": 4,
    "start_time": "2024-12-30T20:20:59.882Z"
   },
   {
    "duration": 3,
    "start_time": "2024-12-30T20:21:00.005Z"
   },
   {
    "duration": 4,
    "start_time": "2024-12-30T20:21:00.200Z"
   },
   {
    "duration": 4,
    "start_time": "2024-12-30T20:21:00.495Z"
   },
   {
    "duration": 4,
    "start_time": "2024-12-30T20:21:11.857Z"
   },
   {
    "duration": 3,
    "start_time": "2024-12-30T20:21:15.293Z"
   },
   {
    "duration": 15,
    "start_time": "2024-12-30T20:29:42.423Z"
   },
   {
    "duration": 5,
    "start_time": "2024-12-30T20:29:42.719Z"
   },
   {
    "duration": 14,
    "start_time": "2024-12-30T20:29:42.928Z"
   },
   {
    "duration": 10,
    "start_time": "2024-12-30T20:29:43.038Z"
   },
   {
    "duration": 10,
    "start_time": "2024-12-30T20:29:43.337Z"
   },
   {
    "duration": 5,
    "start_time": "2024-12-30T20:29:43.551Z"
   },
   {
    "duration": 5,
    "start_time": "2024-12-30T20:29:43.805Z"
   },
   {
    "duration": 204,
    "start_time": "2024-12-30T20:29:43.967Z"
   },
   {
    "duration": 160,
    "start_time": "2024-12-30T20:29:44.500Z"
   },
   {
    "duration": 6,
    "start_time": "2024-12-30T20:29:45.023Z"
   },
   {
    "duration": 4,
    "start_time": "2024-12-30T20:29:45.431Z"
   },
   {
    "duration": 4,
    "start_time": "2024-12-30T20:29:45.627Z"
   },
   {
    "duration": 7,
    "start_time": "2024-12-30T20:30:06.718Z"
   },
   {
    "duration": 3,
    "start_time": "2024-12-30T20:30:08.560Z"
   },
   {
    "duration": 10,
    "start_time": "2024-12-30T20:31:05.726Z"
   },
   {
    "duration": 5,
    "start_time": "2024-12-30T20:32:01.743Z"
   },
   {
    "duration": 8,
    "start_time": "2024-12-30T20:32:53.179Z"
   },
   {
    "duration": 4,
    "start_time": "2024-12-30T20:33:16.979Z"
   },
   {
    "duration": 10,
    "start_time": "2024-12-30T20:33:27.106Z"
   },
   {
    "duration": 5,
    "start_time": "2024-12-30T20:33:37.317Z"
   },
   {
    "duration": 151,
    "start_time": "2024-12-30T20:33:59.421Z"
   },
   {
    "duration": 6,
    "start_time": "2024-12-30T20:34:36.090Z"
   },
   {
    "duration": 10,
    "start_time": "2024-12-30T20:37:27.123Z"
   },
   {
    "duration": 4,
    "start_time": "2024-12-30T20:38:19.697Z"
   },
   {
    "duration": 5,
    "start_time": "2024-12-30T20:40:17.760Z"
   },
   {
    "duration": 4,
    "start_time": "2024-12-30T20:40:23.607Z"
   },
   {
    "duration": 8,
    "start_time": "2024-12-30T20:41:30.963Z"
   },
   {
    "duration": 8,
    "start_time": "2024-12-30T20:41:33.023Z"
   },
   {
    "duration": 4,
    "start_time": "2024-12-30T20:41:56.077Z"
   },
   {
    "duration": 10,
    "start_time": "2024-12-30T20:42:52.690Z"
   },
   {
    "duration": 4,
    "start_time": "2024-12-30T20:43:39.601Z"
   },
   {
    "duration": 4,
    "start_time": "2024-12-30T20:43:50.534Z"
   },
   {
    "duration": 10,
    "start_time": "2024-12-30T20:50:45.882Z"
   },
   {
    "duration": 4,
    "start_time": "2024-12-30T20:54:27.135Z"
   },
   {
    "duration": 17,
    "start_time": "2024-12-30T20:55:16.890Z"
   },
   {
    "duration": 13,
    "start_time": "2024-12-30T20:55:48.012Z"
   },
   {
    "duration": 5,
    "start_time": "2024-12-30T20:55:48.309Z"
   },
   {
    "duration": 15,
    "start_time": "2024-12-30T20:55:48.501Z"
   },
   {
    "duration": 10,
    "start_time": "2024-12-30T20:55:48.630Z"
   },
   {
    "duration": 11,
    "start_time": "2024-12-30T20:55:48.920Z"
   },
   {
    "duration": 5,
    "start_time": "2024-12-30T20:55:49.068Z"
   },
   {
    "duration": 5,
    "start_time": "2024-12-30T20:55:49.382Z"
   },
   {
    "duration": 187,
    "start_time": "2024-12-30T20:55:49.517Z"
   },
   {
    "duration": 151,
    "start_time": "2024-12-30T20:55:50.003Z"
   },
   {
    "duration": 8,
    "start_time": "2024-12-30T20:55:50.477Z"
   },
   {
    "duration": 7,
    "start_time": "2024-12-30T20:55:50.624Z"
   },
   {
    "duration": 4,
    "start_time": "2024-12-30T20:55:51.161Z"
   },
   {
    "duration": 4,
    "start_time": "2024-12-30T21:01:19.456Z"
   },
   {
    "duration": 4,
    "start_time": "2024-12-30T21:01:52.133Z"
   },
   {
    "duration": 5,
    "start_time": "2024-12-30T21:02:03.301Z"
   },
   {
    "duration": 5,
    "start_time": "2024-12-30T21:02:32.853Z"
   },
   {
    "duration": 3,
    "start_time": "2024-12-30T21:03:06.342Z"
   },
   {
    "duration": 3,
    "start_time": "2024-12-30T21:03:32.988Z"
   },
   {
    "duration": 5,
    "start_time": "2024-12-30T21:04:04.212Z"
   },
   {
    "duration": 5,
    "start_time": "2024-12-30T21:04:27.752Z"
   },
   {
    "duration": 5,
    "start_time": "2024-12-30T21:04:31.420Z"
   },
   {
    "duration": 11,
    "start_time": "2024-12-30T21:05:00.132Z"
   },
   {
    "duration": 4,
    "start_time": "2024-12-30T21:07:14.557Z"
   },
   {
    "duration": 13,
    "start_time": "2024-12-30T21:07:21.815Z"
   },
   {
    "duration": 6,
    "start_time": "2024-12-30T21:07:22.162Z"
   },
   {
    "duration": 20,
    "start_time": "2024-12-30T21:07:22.301Z"
   },
   {
    "duration": 13,
    "start_time": "2024-12-30T21:07:22.436Z"
   },
   {
    "duration": 9,
    "start_time": "2024-12-30T21:07:22.739Z"
   },
   {
    "duration": 3,
    "start_time": "2024-12-30T21:07:26.154Z"
   },
   {
    "duration": 5,
    "start_time": "2024-12-30T21:07:30.401Z"
   },
   {
    "duration": 186,
    "start_time": "2024-12-30T21:07:30.920Z"
   },
   {
    "duration": 153,
    "start_time": "2024-12-30T21:07:31.455Z"
   },
   {
    "duration": 6,
    "start_time": "2024-12-30T21:07:32.638Z"
   },
   {
    "duration": 8,
    "start_time": "2024-12-30T21:07:56.782Z"
   },
   {
    "duration": 8,
    "start_time": "2024-12-30T21:08:25.432Z"
   },
   {
    "duration": 3,
    "start_time": "2024-12-30T21:08:41.316Z"
   },
   {
    "duration": 4,
    "start_time": "2024-12-30T21:08:59.411Z"
   },
   {
    "duration": 3,
    "start_time": "2024-12-30T21:09:40.537Z"
   },
   {
    "duration": 5,
    "start_time": "2024-12-30T21:10:01.768Z"
   },
   {
    "duration": 9,
    "start_time": "2024-12-30T21:10:21.197Z"
   },
   {
    "duration": 7,
    "start_time": "2024-12-30T21:12:51.752Z"
   },
   {
    "duration": 7,
    "start_time": "2024-12-30T21:12:58.609Z"
   },
   {
    "duration": 7,
    "start_time": "2024-12-30T21:13:04.745Z"
   },
   {
    "duration": 12,
    "start_time": "2024-12-30T21:13:15.733Z"
   },
   {
    "duration": 6,
    "start_time": "2024-12-30T21:13:18.584Z"
   },
   {
    "duration": 9,
    "start_time": "2024-12-30T21:13:25.511Z"
   },
   {
    "duration": 8,
    "start_time": "2024-12-30T21:13:29.912Z"
   },
   {
    "duration": 7,
    "start_time": "2024-12-30T21:14:03.627Z"
   },
   {
    "duration": 7,
    "start_time": "2024-12-30T21:14:25.886Z"
   },
   {
    "duration": 7,
    "start_time": "2024-12-30T21:14:47.018Z"
   },
   {
    "duration": 9,
    "start_time": "2024-12-30T21:15:02.420Z"
   },
   {
    "duration": 14,
    "start_time": "2024-12-30T21:15:07.369Z"
   },
   {
    "duration": 11,
    "start_time": "2024-12-30T21:15:07.417Z"
   },
   {
    "duration": 5,
    "start_time": "2024-12-30T21:15:30.736Z"
   },
   {
    "duration": 5,
    "start_time": "2024-12-30T21:16:04.833Z"
   },
   {
    "duration": 11,
    "start_time": "2024-12-30T21:17:26.596Z"
   },
   {
    "duration": 10,
    "start_time": "2024-12-30T21:17:27.021Z"
   },
   {
    "duration": 4,
    "start_time": "2024-12-30T21:17:27.165Z"
   },
   {
    "duration": 6,
    "start_time": "2024-12-30T21:17:27.460Z"
   },
   {
    "duration": 189,
    "start_time": "2024-12-30T21:17:27.606Z"
   },
   {
    "duration": 227,
    "start_time": "2024-12-30T21:17:27.927Z"
   },
   {
    "duration": 9,
    "start_time": "2024-12-30T21:17:28.405Z"
   },
   {
    "duration": 6,
    "start_time": "2024-12-30T21:17:29.760Z"
   },
   {
    "duration": 6,
    "start_time": "2024-12-30T21:20:49.896Z"
   },
   {
    "duration": 8,
    "start_time": "2024-12-30T21:20:51.130Z"
   },
   {
    "duration": 12,
    "start_time": "2024-12-30T21:20:53.001Z"
   },
   {
    "duration": 8,
    "start_time": "2024-12-30T21:20:58.632Z"
   },
   {
    "duration": 5,
    "start_time": "2024-12-30T21:21:07.133Z"
   },
   {
    "duration": 4,
    "start_time": "2024-12-30T21:21:22.467Z"
   },
   {
    "duration": 5,
    "start_time": "2024-12-30T21:23:10.138Z"
   },
   {
    "duration": 6,
    "start_time": "2024-12-30T21:24:33.650Z"
   },
   {
    "duration": 8,
    "start_time": "2024-12-30T21:26:34.907Z"
   },
   {
    "duration": 8,
    "start_time": "2024-12-30T21:26:51.726Z"
   },
   {
    "duration": 14,
    "start_time": "2024-12-30T21:27:35.604Z"
   },
   {
    "duration": 8,
    "start_time": "2024-12-30T21:27:35.926Z"
   },
   {
    "duration": 5,
    "start_time": "2024-12-30T21:27:36.103Z"
   },
   {
    "duration": 5,
    "start_time": "2024-12-30T21:27:36.252Z"
   },
   {
    "duration": 10,
    "start_time": "2024-12-30T21:27:36.418Z"
   },
   {
    "duration": 11,
    "start_time": "2024-12-30T21:27:36.618Z"
   },
   {
    "duration": 4,
    "start_time": "2024-12-30T21:27:36.758Z"
   },
   {
    "duration": 8,
    "start_time": "2024-12-30T21:27:58.342Z"
   },
   {
    "duration": 11,
    "start_time": "2024-12-30T21:29:39.824Z"
   },
   {
    "duration": 7,
    "start_time": "2024-12-30T21:29:43.442Z"
   },
   {
    "duration": 9,
    "start_time": "2024-12-30T21:32:27.304Z"
   },
   {
    "duration": 7,
    "start_time": "2024-12-30T21:32:28.642Z"
   },
   {
    "duration": 5,
    "start_time": "2024-12-30T21:32:33.339Z"
   },
   {
    "duration": 5,
    "start_time": "2024-12-30T21:32:33.397Z"
   },
   {
    "duration": 6,
    "start_time": "2024-12-30T21:32:42.253Z"
   },
   {
    "duration": 4,
    "start_time": "2024-12-30T21:33:02.626Z"
   },
   {
    "duration": 5,
    "start_time": "2024-12-30T21:33:09.359Z"
   },
   {
    "duration": 12,
    "start_time": "2024-12-30T21:33:38.345Z"
   },
   {
    "duration": 8,
    "start_time": "2024-12-30T21:34:03.818Z"
   },
   {
    "duration": 4,
    "start_time": "2024-12-30T21:34:07.432Z"
   },
   {
    "duration": 5,
    "start_time": "2024-12-30T21:36:04.662Z"
   },
   {
    "duration": 5,
    "start_time": "2024-12-30T21:36:26.910Z"
   },
   {
    "duration": 7,
    "start_time": "2024-12-30T21:37:05.797Z"
   },
   {
    "duration": 10,
    "start_time": "2024-12-30T21:37:24.589Z"
   },
   {
    "duration": 4,
    "start_time": "2024-12-30T21:38:38.114Z"
   },
   {
    "duration": 6,
    "start_time": "2024-12-30T21:38:51.280Z"
   },
   {
    "duration": 6,
    "start_time": "2024-12-30T21:39:05.450Z"
   },
   {
    "duration": 6,
    "start_time": "2024-12-30T21:39:58.818Z"
   },
   {
    "duration": 7,
    "start_time": "2024-12-30T21:42:45.866Z"
   },
   {
    "duration": 7,
    "start_time": "2024-12-30T21:43:37.159Z"
   },
   {
    "duration": 7,
    "start_time": "2024-12-30T21:43:50.579Z"
   },
   {
    "duration": 15,
    "start_time": "2024-12-30T21:43:57.751Z"
   },
   {
    "duration": 12,
    "start_time": "2024-12-30T21:44:03.682Z"
   },
   {
    "duration": 6,
    "start_time": "2024-12-30T21:44:04.286Z"
   },
   {
    "duration": 9,
    "start_time": "2024-12-30T21:44:04.472Z"
   },
   {
    "duration": 6,
    "start_time": "2024-12-30T21:44:05.182Z"
   },
   {
    "duration": 6,
    "start_time": "2024-12-30T21:44:06.879Z"
   },
   {
    "duration": 7,
    "start_time": "2024-12-30T21:44:09.572Z"
   },
   {
    "duration": 190,
    "start_time": "2024-12-30T21:44:55.499Z"
   },
   {
    "duration": 152,
    "start_time": "2024-12-30T21:45:00.665Z"
   },
   {
    "duration": 151,
    "start_time": "2024-12-30T21:45:19.016Z"
   },
   {
    "duration": 11,
    "start_time": "2024-12-30T21:45:26.180Z"
   },
   {
    "duration": 7,
    "start_time": "2024-12-30T21:45:26.521Z"
   },
   {
    "duration": 8,
    "start_time": "2024-12-30T21:45:26.667Z"
   },
   {
    "duration": 6,
    "start_time": "2024-12-30T21:45:26.831Z"
   },
   {
    "duration": 6,
    "start_time": "2024-12-30T21:45:27.004Z"
   },
   {
    "duration": 6,
    "start_time": "2024-12-30T21:45:27.892Z"
   },
   {
    "duration": 193,
    "start_time": "2024-12-30T21:45:28.283Z"
   },
   {
    "duration": 153,
    "start_time": "2024-12-30T21:45:30.618Z"
   },
   {
    "duration": 13,
    "start_time": "2024-12-30T21:45:47.217Z"
   },
   {
    "duration": 11,
    "start_time": "2024-12-30T21:46:32.205Z"
   },
   {
    "duration": 14,
    "start_time": "2024-12-30T21:47:02.471Z"
   },
   {
    "duration": 12,
    "start_time": "2024-12-30T21:47:38.546Z"
   },
   {
    "duration": 3,
    "start_time": "2024-12-30T21:49:48.721Z"
   },
   {
    "duration": 7,
    "start_time": "2024-12-30T21:49:56.789Z"
   },
   {
    "duration": 3,
    "start_time": "2024-12-30T21:50:07.494Z"
   },
   {
    "duration": 11,
    "start_time": "2024-12-30T21:50:50.960Z"
   },
   {
    "duration": 4,
    "start_time": "2024-12-30T21:55:34.740Z"
   },
   {
    "duration": 4,
    "start_time": "2024-12-30T21:55:56.801Z"
   },
   {
    "duration": 7,
    "start_time": "2024-12-30T21:57:28.333Z"
   },
   {
    "duration": 6,
    "start_time": "2024-12-30T21:57:29.892Z"
   },
   {
    "duration": 12,
    "start_time": "2024-12-30T21:59:12.728Z"
   },
   {
    "duration": 7,
    "start_time": "2024-12-30T21:59:14.293Z"
   },
   {
    "duration": 8,
    "start_time": "2024-12-30T21:59:14.337Z"
   },
   {
    "duration": 6,
    "start_time": "2024-12-30T21:59:17.172Z"
   },
   {
    "duration": 5,
    "start_time": "2024-12-30T21:59:17.906Z"
   },
   {
    "duration": 6,
    "start_time": "2024-12-30T21:59:26.606Z"
   },
   {
    "duration": 193,
    "start_time": "2024-12-30T21:59:28.008Z"
   },
   {
    "duration": 169,
    "start_time": "2024-12-30T21:59:36.407Z"
   },
   {
    "duration": 12,
    "start_time": "2024-12-30T22:04:39.181Z"
   },
   {
    "duration": 7,
    "start_time": "2024-12-30T22:04:39.968Z"
   },
   {
    "duration": 9,
    "start_time": "2024-12-30T22:04:40.067Z"
   },
   {
    "duration": 6,
    "start_time": "2024-12-30T22:04:40.209Z"
   },
   {
    "duration": 6,
    "start_time": "2024-12-30T22:04:40.524Z"
   },
   {
    "duration": 6,
    "start_time": "2024-12-30T22:04:40.982Z"
   },
   {
    "duration": 195,
    "start_time": "2024-12-30T22:04:41.138Z"
   },
   {
    "duration": 157,
    "start_time": "2024-12-30T22:04:41.655Z"
   },
   {
    "duration": 5,
    "start_time": "2024-12-30T22:05:05.891Z"
   },
   {
    "duration": 13,
    "start_time": "2024-12-30T22:06:05.741Z"
   },
   {
    "duration": 3,
    "start_time": "2024-12-30T22:07:32.373Z"
   },
   {
    "duration": 5,
    "start_time": "2024-12-30T22:07:57.351Z"
   },
   {
    "duration": 6,
    "start_time": "2024-12-30T22:08:11.586Z"
   },
   {
    "duration": 11,
    "start_time": "2024-12-30T22:09:07.997Z"
   },
   {
    "duration": 10,
    "start_time": "2024-12-30T22:11:11.996Z"
   },
   {
    "duration": 9,
    "start_time": "2024-12-30T22:11:52.913Z"
   },
   {
    "duration": 87,
    "start_time": "2024-12-30T22:13:51.411Z"
   },
   {
    "duration": 4,
    "start_time": "2024-12-30T22:14:11.784Z"
   },
   {
    "duration": 4,
    "start_time": "2024-12-30T22:14:18.978Z"
   },
   {
    "duration": 4,
    "start_time": "2024-12-30T22:18:25.367Z"
   },
   {
    "duration": 12,
    "start_time": "2024-12-30T22:18:50.750Z"
   },
   {
    "duration": 7,
    "start_time": "2024-12-30T22:18:51.340Z"
   },
   {
    "duration": 10,
    "start_time": "2024-12-30T22:18:51.527Z"
   },
   {
    "duration": 6,
    "start_time": "2024-12-30T22:18:51.934Z"
   },
   {
    "duration": 6,
    "start_time": "2024-12-30T22:18:52.472Z"
   },
   {
    "duration": 5,
    "start_time": "2024-12-30T22:18:53.163Z"
   },
   {
    "duration": 185,
    "start_time": "2024-12-30T22:18:53.354Z"
   },
   {
    "duration": 151,
    "start_time": "2024-12-30T22:18:53.862Z"
   },
   {
    "duration": 448,
    "start_time": "2024-12-30T22:18:54.108Z"
   },
   {
    "duration": 0,
    "start_time": "2024-12-30T22:18:54.558Z"
   },
   {
    "duration": 0,
    "start_time": "2024-12-30T22:18:54.559Z"
   },
   {
    "duration": 41,
    "start_time": "2024-12-30T22:19:02.519Z"
   },
   {
    "duration": 4,
    "start_time": "2024-12-30T22:19:06.009Z"
   },
   {
    "duration": 5,
    "start_time": "2024-12-30T22:19:12.139Z"
   },
   {
    "duration": 4,
    "start_time": "2024-12-30T22:19:32.904Z"
   },
   {
    "duration": 47,
    "start_time": "2024-12-30T22:19:42.604Z"
   },
   {
    "duration": 14,
    "start_time": "2024-12-30T22:20:16.914Z"
   },
   {
    "duration": 12,
    "start_time": "2024-12-30T22:20:32.666Z"
   },
   {
    "duration": 6,
    "start_time": "2024-12-30T22:20:33.272Z"
   },
   {
    "duration": 9,
    "start_time": "2024-12-30T22:20:33.429Z"
   },
   {
    "duration": 6,
    "start_time": "2024-12-30T22:20:33.621Z"
   },
   {
    "duration": 7,
    "start_time": "2024-12-30T22:20:33.940Z"
   },
   {
    "duration": 6,
    "start_time": "2024-12-30T22:20:34.422Z"
   },
   {
    "duration": 189,
    "start_time": "2024-12-30T22:20:34.571Z"
   },
   {
    "duration": 154,
    "start_time": "2024-12-30T22:20:35.602Z"
   },
   {
    "duration": 13,
    "start_time": "2024-12-30T22:20:37.052Z"
   },
   {
    "duration": 5,
    "start_time": "2024-12-30T22:20:38.417Z"
   },
   {
    "duration": 5,
    "start_time": "2024-12-30T22:20:39.257Z"
   },
   {
    "duration": 5,
    "start_time": "2024-12-30T22:21:02.269Z"
   },
   {
    "duration": 13,
    "start_time": "2024-12-30T22:22:04.511Z"
   },
   {
    "duration": 5,
    "start_time": "2024-12-30T22:22:07.243Z"
   },
   {
    "duration": 4,
    "start_time": "2024-12-30T22:22:08.771Z"
   },
   {
    "duration": 12,
    "start_time": "2024-12-30T22:23:15.329Z"
   },
   {
    "duration": 6,
    "start_time": "2024-12-30T22:24:25.497Z"
   },
   {
    "duration": 4,
    "start_time": "2024-12-30T22:28:13.321Z"
   }
  ],
  "kernelspec": {
   "display_name": "Python 3 (ipykernel)",
   "language": "python",
   "name": "python3"
  },
  "language_info": {
   "codemirror_mode": {
    "name": "ipython",
    "version": 3
   },
   "file_extension": ".py",
   "mimetype": "text/x-python",
   "name": "python",
   "nbconvert_exporter": "python",
   "pygments_lexer": "ipython3",
   "version": "3.9.19"
  },
  "toc": {
   "base_numbering": 1,
   "nav_menu": {},
   "number_sections": true,
   "sideBar": true,
   "skip_h1_title": true,
   "title_cell": "Table of Contents",
   "title_sidebar": "Contents",
   "toc_cell": false,
   "toc_position": {},
   "toc_section_display": true,
   "toc_window_display": false
  }
 },
 "nbformat": 4,
 "nbformat_minor": 2
}
